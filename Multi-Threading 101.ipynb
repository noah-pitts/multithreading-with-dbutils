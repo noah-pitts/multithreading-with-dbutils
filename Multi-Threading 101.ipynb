{
 "cells": [
  {
   "cell_type": "code",
   "execution_count": 0,
   "metadata": {
    "application/vnd.databricks.v1+cell": {
     "cellMetadata": {
      "byteLimit": 2048000,
      "rowLimit": 10000
     },
     "inputWidgets": {},
     "nuid": "11af3fc6-3bac-4f6c-aefb-170571568c8c",
     "showTitle": false,
     "tableResultSettingsMap": {},
     "title": ""
    }
   },
   "outputs": [
    {
     "output_type": "stream",
     "name": "stdout",
     "output_type": "stream",
     "text": [
      "8\n"
     ]
    }
   ],
   "source": [
    "# Multi-Threading Intro - This cluster has 8 active threads. I can use anywhere between 1-8\n",
    "import threading\n",
    "\n",
    "print(threading.active_count())  # Returns the number of active threads"
   ]
  },
  {
   "cell_type": "code",
   "execution_count": 0,
   "metadata": {
    "application/vnd.databricks.v1+cell": {
     "cellMetadata": {
      "byteLimit": 2048000,
      "rowLimit": 10000
     },
     "inputWidgets": {},
     "nuid": "9e4a48bf-5e04-4dec-b7bc-9ef9ce7e0956",
     "showTitle": false,
     "tableResultSettingsMap": {},
     "title": ""
    }
   },
   "outputs": [
    {
     "output_type": "display_data",
     "data": {
      "text/html": [
       "<style scoped>\n",
       "  .table-result-container {\n",
       "    max-height: 300px;\n",
       "    overflow: auto;\n",
       "  }\n",
       "  table, th, td {\n",
       "    border: 1px solid black;\n",
       "    border-collapse: collapse;\n",
       "  }\n",
       "  th, td {\n",
       "    padding: 5px;\n",
       "  }\n",
       "  th {\n",
       "    text-align: left;\n",
       "  }\n",
       "</style><div class='table-result-container'><table class='table-result'><thead style='background-color: white'><tr><th>path</th><th>name</th><th>size</th><th>modificationTime</th></tr></thead><tbody><tr><td>dbfs:/FileStore/tables/</td><td>tables/</td><td>0</td><td>0</td></tr></tbody></table></div>"
      ]
     },
     "metadata": {
      "application/vnd.databricks.v1+output": {
       "addedWidgets": {},
       "aggData": [],
       "aggError": "",
       "aggOverflow": false,
       "aggSchema": [],
       "aggSeriesLimitReached": false,
       "aggType": "",
       "arguments": {},
       "columnCustomDisplayInfos": {},
       "data": [
        [
         "dbfs:/FileStore/tables/",
         "tables/",
         0,
         0
        ]
       ],
       "datasetInfos": [],
       "dbfsResultPath": null,
       "isJsonSchema": true,
       "metadata": {},
       "overflow": false,
       "plotOptions": {
        "customPlotOptions": {},
        "displayType": "table",
        "pivotAggregation": null,
        "pivotColumns": null,
        "xColumns": null,
        "yColumns": null
       },
       "removedWidgets": [],
       "schema": [
        {
         "metadata": "{}",
         "name": "path",
         "type": "\"string\""
        },
        {
         "metadata": "{}",
         "name": "name",
         "type": "\"string\""
        },
        {
         "metadata": "{}",
         "name": "size",
         "type": "\"long\""
        },
        {
         "metadata": "{}",
         "name": "modificationTime",
         "type": "\"long\""
        }
       ],
       "type": "table"
      }
     },
     "output_type": "display_data"
    }
   ],
   "source": [
    "files = dbutils.fs.ls(\"dbfs:/FileStore/\")  # Show files in directory\n",
    "display(files)"
   ]
  },
  {
   "cell_type": "code",
   "execution_count": 0,
   "metadata": {
    "application/vnd.databricks.v1+cell": {
     "cellMetadata": {
      "byteLimit": 2048000,
      "rowLimit": 10000
     },
     "inputWidgets": {},
     "nuid": "660763c4-599e-4d74-83e6-4be96c782688",
     "showTitle": false,
     "tableResultSettingsMap": {},
     "title": ""
    }
   },
   "outputs": [],
   "source": [
    "for file in files:\n",
    "    dbutils.fs.rm(file.path, True)"
   ]
  },
  {
   "cell_type": "code",
   "execution_count": 0,
   "metadata": {
    "application/vnd.databricks.v1+cell": {
     "cellMetadata": {
      "byteLimit": 2048000,
      "rowLimit": 10000
     },
     "inputWidgets": {},
     "nuid": "930be455-a7ff-44f5-8fd0-990ddd23b096",
     "showTitle": false,
     "tableResultSettingsMap": {},
     "title": ""
    }
   },
   "outputs": [],
   "source": [
    "def writeFiles(folderName, suffix):\n",
    "    dbutils.fs.put(\n",
    "        f\"dbfs:/FileStore/{folderName}/{folderName}_{suffix}.txt\", \"Hello Youtube.\", True\n",
    "    )"
   ]
  },
  {
   "cell_type": "code",
   "execution_count": 0,
   "metadata": {
    "application/vnd.databricks.v1+cell": {
     "cellMetadata": {
      "byteLimit": 2048000,
      "rowLimit": 10000
     },
     "inputWidgets": {},
     "nuid": "61d53c49-40d7-4794-9efa-7768772bce5f",
     "showTitle": false,
     "tableResultSettingsMap": {},
     "title": ""
    }
   },
   "outputs": [
    {
     "output_type": "stream",
     "name": "stdout",
     "output_type": "stream",
     "text": [
      "Wrote 14 bytes.\nWrote 14 bytes.\nWrote 14 bytes.\nWrote 14 bytes.\nWrote 14 bytes.\nWrote 14 bytes.\nWrote 14 bytes.\nWrote 14 bytes.\nWrote 14 bytes.\nWrote 14 bytes.\nWrote 14 bytes.\nWrote 14 bytes.\nWrote 14 bytes.\nWrote 14 bytes.\nWrote 14 bytes.\nWrote 14 bytes.\nWrote 14 bytes.\nWrote 14 bytes.\nWrote 14 bytes.\nWrote 14 bytes.\nWrote 14 bytes.\nWrote 14 bytes.\nWrote 14 bytes.\nWrote 14 bytes.\nWrote 14 bytes.\nWrote 14 bytes.\nWrote 14 bytes.\nWrote 14 bytes.\nWrote 14 bytes.\nWrote 14 bytes.\nWrote 14 bytes.\nWrote 14 bytes.\nWrote 14 bytes.\nWrote 14 bytes.\nWrote 14 bytes.\nWrote 14 bytes.\nWrote 14 bytes.\nWrote 14 bytes.\nWrote 14 bytes.\nWrote 14 bytes.\nWrote 14 bytes.\nWrote 14 bytes.\nWrote 14 bytes.\nWrote 14 bytes.\nWrote 14 bytes.\nWrote 14 bytes.\nWrote 14 bytes.\nWrote 14 bytes.\nWrote 14 bytes.\nWrote 14 bytes.\nWrote 14 bytes.\nWrote 14 bytes.\nWrote 14 bytes.\nWrote 14 bytes.\nWrote 14 bytes.\nWrote 14 bytes.\nWrote 14 bytes.\nWrote 14 bytes.\nWrote 14 bytes.\nWrote 14 bytes.\nWrote 14 bytes.\nWrote 14 bytes.\nWrote 14 bytes.\nWrote 14 bytes.\nWrote 14 bytes.\nWrote 14 bytes.\nWrote 14 bytes.\nWrote 14 bytes.\nWrote 14 bytes.\nWrote 14 bytes.\nWrote 14 bytes.\nWrote 14 bytes.\nWrote 14 bytes.\nWrote 14 bytes.\nWrote 14 bytes.\nWrote 14 bytes.\nWrote 14 bytes.\nWrote 14 bytes.\nWrote 14 bytes.\n"
     ]
    }
   ],
   "source": [
    "import concurrent.futures\n",
    "from concurrent.futures import ThreadPoolExecutor\n",
    "\n",
    "numbers = range(1, 80)\n",
    "threads = 8\n",
    "\n",
    "# Create a ThreadPoolExecutor with worker threads\n",
    "with concurrent.futures.ThreadPoolExecutor(max_workers=threads) as executor:\n",
    "    # Use the map method to apply the lambda function to each element in the list\n",
    "    results = executor.map(lambda x: writeFiles(\"test8\", x), numbers)\n",
    "\n",
    "results = list(results)"
   ]
  },
  {
   "cell_type": "code",
   "execution_count": 0,
   "metadata": {
    "application/vnd.databricks.v1+cell": {
     "cellMetadata": {
      "byteLimit": 2048000,
      "rowLimit": 10000
     },
     "inputWidgets": {},
     "nuid": "b3ec7b2c-b501-4393-963c-c72ea30bd451",
     "showTitle": false,
     "tableResultSettingsMap": {},
     "title": ""
    }
   },
   "outputs": [],
   "source": [
    "def moveFiles(sourceFolder, targetFolder, suffix):\n",
    "    dbutils.fs.mv(\n",
    "        f\"dbfs:/FileStore/{sourceFolder}/{sourceFolder}_{suffix}.txt\",\n",
    "        f\"dbfs:/FileStore/{targetFolder}/{sourceFolder}_{suffix}\",\n",
    "    )"
   ]
  },
  {
   "cell_type": "code",
   "execution_count": 0,
   "metadata": {
    "application/vnd.databricks.v1+cell": {
     "cellMetadata": {
      "byteLimit": 2048000,
      "rowLimit": 10000
     },
     "inputWidgets": {},
     "nuid": "3e9afe6e-aad8-4452-bf96-a7cb6bc27c8d",
     "showTitle": false,
     "tableResultSettingsMap": {},
     "title": ""
    }
   },
   "outputs": [],
   "source": [
    "numbers = range(1, 80)\n",
    "threads = 8\n",
    "# Create a ThreadPoolExecutor with 4 worker threads\n",
    "with concurrent.futures.ThreadPoolExecutor(max_workers=threads) as executor:\n",
    "    # Use the map method to apply the lambda function to each element in the list\n",
    "    results = executor.map(lambda x: moveFiles(\"test8\", \"land8\", x), numbers)\n"
   ]
  }
 ],
 "metadata": {
  "application/vnd.databricks.v1+notebook": {
   "dashboards": [],
   "environmentMetadata": null,
   "language": "python",
   "notebookMetadata": {
    "pythonIndentUnit": 4
   },
   "notebookName": "Multi-Threading 101",
   "widgets": {}
  }
 },
 "nbformat": 4,
 "nbformat_minor": 0
}
